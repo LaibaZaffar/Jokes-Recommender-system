{
 "cells": [
  {
   "cell_type": "code",
   "execution_count": 19,
   "metadata": {
    "id": "1fMu8RX9m0su"
   },
   "outputs": [],
   "source": [
    "import pandas as pd\n",
    "import numpy as np\n",
    "from sklearn.preprocessing import MinMaxScaler\n",
    "from sklearn.metrics.pairwise import cosine_similarity"
   ]
  },
  {
   "cell_type": "markdown",
   "metadata": {},
   "source": [
    "# Dataset Loading"
   ]
  },
  {
   "cell_type": "code",
   "execution_count": 20,
   "metadata": {
    "id": "j0gECPOdm5sK"
   },
   "outputs": [],
   "source": [
    "jokes=pd.read_excel(\"Dataset3JokeSet.xlsx\",header=None)\n",
    "ratings = pd.read_excel(\"FINAL jester 2006-15.xlsx\", header=None)"
   ]
  },
  {
   "cell_type": "markdown",
   "metadata": {
    "id": "sL0bG9xd2IZD"
   },
   "source": [
    "# PreProcessing"
   ]
  },
  {
   "cell_type": "code",
   "execution_count": 21,
   "metadata": {
    "colab": {
     "base_uri": "https://localhost:8080/"
    },
    "id": "-z0NUJy1m8DO",
    "outputId": "469447fd-7e25-4449-d877-c93cb0fda790"
   },
   "outputs": [
    {
     "name": "stderr",
     "output_type": "stream",
     "text": [
      "<ipython-input-21-c83b00985b0d>:9: FutureWarning: Setting an item of incompatible dtype is deprecated and will raise in a future error of pandas. Value '0       NaN\n",
      "1       NaN\n",
      "2       NaN\n",
      "3       NaN\n",
      "4       NaN\n",
      "         ..\n",
      "54900   NaN\n",
      "54901   NaN\n",
      "54902   NaN\n",
      "54903   NaN\n",
      "54904   NaN\n",
      "Name: 1, Length: 54905, dtype: float64' has dtype incompatible with int64, please explicitly cast to a compatible dtype first.\n",
      "  ratings.iloc[:, 2:] = ratings.iloc[:, 2:].replace(99, np.nan)\n",
      "<ipython-input-21-c83b00985b0d>:9: FutureWarning: Setting an item of incompatible dtype is deprecated and will raise in a future error of pandas. Value '0       NaN\n",
      "1       NaN\n",
      "2       NaN\n",
      "3       NaN\n",
      "4       NaN\n",
      "         ..\n",
      "54900   NaN\n",
      "54901   NaN\n",
      "54902   NaN\n",
      "54903   NaN\n",
      "54904   NaN\n",
      "Name: 2, Length: 54905, dtype: float64' has dtype incompatible with int64, please explicitly cast to a compatible dtype first.\n",
      "  ratings.iloc[:, 2:] = ratings.iloc[:, 2:].replace(99, np.nan)\n",
      "<ipython-input-21-c83b00985b0d>:9: FutureWarning: Setting an item of incompatible dtype is deprecated and will raise in a future error of pandas. Value '0       NaN\n",
      "1       NaN\n",
      "2       NaN\n",
      "3       NaN\n",
      "4       NaN\n",
      "         ..\n",
      "54900   NaN\n",
      "54901   NaN\n",
      "54902   NaN\n",
      "54903   NaN\n",
      "54904   NaN\n",
      "Name: 3, Length: 54905, dtype: float64' has dtype incompatible with int64, please explicitly cast to a compatible dtype first.\n",
      "  ratings.iloc[:, 2:] = ratings.iloc[:, 2:].replace(99, np.nan)\n",
      "<ipython-input-21-c83b00985b0d>:9: FutureWarning: Setting an item of incompatible dtype is deprecated and will raise in a future error of pandas. Value '0       NaN\n",
      "1       NaN\n",
      "2       NaN\n",
      "3       NaN\n",
      "4       NaN\n",
      "         ..\n",
      "54900   NaN\n",
      "54901   NaN\n",
      "54902   NaN\n",
      "54903   NaN\n",
      "54904   NaN\n",
      "Name: 4, Length: 54905, dtype: float64' has dtype incompatible with int64, please explicitly cast to a compatible dtype first.\n",
      "  ratings.iloc[:, 2:] = ratings.iloc[:, 2:].replace(99, np.nan)\n",
      "<ipython-input-21-c83b00985b0d>:9: FutureWarning: Setting an item of incompatible dtype is deprecated and will raise in a future error of pandas. Value '0       NaN\n",
      "1       NaN\n",
      "2       NaN\n",
      "3       NaN\n",
      "4       NaN\n",
      "         ..\n",
      "54900   NaN\n",
      "54901   NaN\n",
      "54902   NaN\n",
      "54903   NaN\n",
      "54904   NaN\n",
      "Name: 6, Length: 54905, dtype: float64' has dtype incompatible with int64, please explicitly cast to a compatible dtype first.\n",
      "  ratings.iloc[:, 2:] = ratings.iloc[:, 2:].replace(99, np.nan)\n",
      "<ipython-input-21-c83b00985b0d>:9: FutureWarning: Setting an item of incompatible dtype is deprecated and will raise in a future error of pandas. Value '0       NaN\n",
      "1       NaN\n",
      "2       NaN\n",
      "3       NaN\n",
      "4       NaN\n",
      "         ..\n",
      "54900   NaN\n",
      "54901   NaN\n",
      "54902   NaN\n",
      "54903   NaN\n",
      "54904   NaN\n",
      "Name: 9, Length: 54905, dtype: float64' has dtype incompatible with int64, please explicitly cast to a compatible dtype first.\n",
      "  ratings.iloc[:, 2:] = ratings.iloc[:, 2:].replace(99, np.nan)\n",
      "<ipython-input-21-c83b00985b0d>:9: FutureWarning: Setting an item of incompatible dtype is deprecated and will raise in a future error of pandas. Value '0       NaN\n",
      "1       NaN\n",
      "2       NaN\n",
      "3       NaN\n",
      "4       NaN\n",
      "         ..\n",
      "54900   NaN\n",
      "54901   NaN\n",
      "54902   NaN\n",
      "54903   NaN\n",
      "54904   NaN\n",
      "Name: 10, Length: 54905, dtype: float64' has dtype incompatible with int64, please explicitly cast to a compatible dtype first.\n",
      "  ratings.iloc[:, 2:] = ratings.iloc[:, 2:].replace(99, np.nan)\n",
      "<ipython-input-21-c83b00985b0d>:9: FutureWarning: Setting an item of incompatible dtype is deprecated and will raise in a future error of pandas. Value '0       NaN\n",
      "1       NaN\n",
      "2       NaN\n",
      "3       NaN\n",
      "4       NaN\n",
      "         ..\n",
      "54900   NaN\n",
      "54901   NaN\n",
      "54902   NaN\n",
      "54903   NaN\n",
      "54904   NaN\n",
      "Name: 11, Length: 54905, dtype: float64' has dtype incompatible with int64, please explicitly cast to a compatible dtype first.\n",
      "  ratings.iloc[:, 2:] = ratings.iloc[:, 2:].replace(99, np.nan)\n",
      "<ipython-input-21-c83b00985b0d>:9: FutureWarning: Setting an item of incompatible dtype is deprecated and will raise in a future error of pandas. Value '0       NaN\n",
      "1       NaN\n",
      "2       NaN\n",
      "3       NaN\n",
      "4       NaN\n",
      "         ..\n",
      "54900   NaN\n",
      "54901   NaN\n",
      "54902   NaN\n",
      "54903   NaN\n",
      "54904   NaN\n",
      "Name: 12, Length: 54905, dtype: float64' has dtype incompatible with int64, please explicitly cast to a compatible dtype first.\n",
      "  ratings.iloc[:, 2:] = ratings.iloc[:, 2:].replace(99, np.nan)\n",
      "<ipython-input-21-c83b00985b0d>:9: FutureWarning: Setting an item of incompatible dtype is deprecated and will raise in a future error of pandas. Value '0       NaN\n",
      "1       NaN\n",
      "2       NaN\n",
      "3       NaN\n",
      "4       NaN\n",
      "         ..\n",
      "54900   NaN\n",
      "54901   NaN\n",
      "54902   NaN\n",
      "54903   NaN\n",
      "54904   NaN\n",
      "Name: 14, Length: 54905, dtype: float64' has dtype incompatible with int64, please explicitly cast to a compatible dtype first.\n",
      "  ratings.iloc[:, 2:] = ratings.iloc[:, 2:].replace(99, np.nan)\n"
     ]
    }
   ],
   "source": [
    "joke_columns = [f'{i}' for i in range(1, ratings.shape[1])]\n",
    "ratings.columns = ['Total_Ratings'] + joke_columns\n",
    "\n",
    "ratings.insert(0, 'User_ID', range(1, len(ratings) + 1))\n",
    "\n",
    "jokes.columns = ['Joke_Text']                                  # Rename the single column\n",
    "jokes.insert(0, 'Joke_ID', range(1, len(jokes) + 1))           # Add Joke_ID as a sequential index\n",
    "\n",
    "ratings.iloc[:, 2:] = ratings.iloc[:, 2:].replace(99, np.nan)\n",
    "\n",
    "outdated_jokes = [1, 2, 3, 4, 5, 6, 9, 10, 11, 12, 14, 20, 27, 31, 43, 51, 52, 61, 73, 80, 100, 116]\n",
    "ratings.drop(columns=[f'{i}' for i in outdated_jokes if f'{i}' in ratings.columns], inplace=True)\n",
    "\n",
    "ratings['User_ID'] = ratings['User_ID'].astype(int)\n",
    "ratings['Total_Ratings'] = ratings['Total_Ratings'].astype(int)\n",
    "\n",
    "jokes = jokes.drop(jokes[jokes['Joke_ID'].isin(outdated_jokes)].index)\n",
    "jokes = jokes.reset_index(drop=True)\n",
    "\n",
    "if 'index' in jokes.columns:                                     # Drop the unwanted 'index' column\n",
    "    jokes = jokes.drop(columns=['index'])\n",
    "\n",
    "scaler = MinMaxScaler(feature_range=(0, 1))\n",
    "ratings.iloc[:, 2:] = scaler.fit_transform(ratings.iloc[:, 2:])  # Skip User_ID and Total_Ratings\n",
    "\n",
    "ratings = ratings.drop_duplicates()\n",
    "ratings.reset_index(drop=True, inplace=True)\n",
    "\n"
   ]
  },
  {
   "cell_type": "markdown",
   "metadata": {},
   "source": [
    "# Similarity Scores"
   ]
  },
  {
   "cell_type": "code",
   "execution_count": 22,
   "metadata": {
    "id": "5fHH114SnHZ4"
   },
   "outputs": [],
   "source": [
    "'''To ensure the reliability of results, keep only the users who have rated more than 50 jokes and \n",
    "the jokes which are rated by more than 100 users '''\n",
    "\n",
    "ratings = ratings[ratings['Total_Ratings'] > 50]  \n",
    "popular_jokes = ratings.drop(columns=['Total_Ratings', 'User_ID']).count(axis=0) >= 100\n",
    "\n",
    "ratings = ratings[ ['User_ID'] + ['Total_Ratings'] + popular_jokes.index[popular_jokes].tolist()]\n",
    "\n",
    "ratings_long = ratings.melt(\n",
    "    id_vars=['User_ID', 'Total_Ratings'],  # Columns to keep\n",
    "    var_name='Joke_ID',                    # Name for the new joke column\n",
    "    value_name='Rating'                    # Name for the new ratings column\n",
    ")\n",
    "\n",
    "ratings_long = ratings_long.drop(columns=['Total_Ratings'])\n",
    "\n",
    "ratings_long['Joke_ID'] = ratings_long['Joke_ID'].astype(int)\n",
    "\n",
    "pt = ratings_long.pivot(\n",
    "    index='Joke_ID',                         # New index\n",
    "    columns='User_ID',                       # New columns\n",
    "    values='Rating'                          # Values to fill the table\n",
    ")\n",
    "\n",
    "pt.fillna(0,inplace=True)\n",
    "similarity_scores=cosine_similarity(pt)"
   ]
  },
  {
   "cell_type": "markdown",
   "metadata": {
    "id": "5IqNY9v62eT4"
   },
   "source": [
    "# Jokes Recommender"
   ]
  },
  {
   "cell_type": "code",
   "execution_count": 23,
   "metadata": {
    "colab": {
     "base_uri": "https://localhost:8080/"
    },
    "id": "J-aFD4WtnPRp",
    "outputId": "5514ce58-c870-4b7f-a227-0f530c1474fa"
   },
   "outputs": [
    {
     "name": "stdout",
     "output_type": "stream",
     "text": [
      "Similarity-Score(0.8537143283112506) ---> A man arrives at the gates of heaven. St. Peter asks, \"Religion?\"  The man says, \"Methodist.\" St. Peter looks down his list, and says,  \"Go to room 24, but be very quiet as you pass room 8.\"   Another man arrives at the gates of heaven. \"Religion?\" \"Baptist.\" \"Go to room 18, but be very quiet as you pass room 8.\"   A third man arrives at the gates. \"Religion?\" \"Jewish.\" \"Go to room 11, but be very quiet as you pass room 8.\"  The man says, \"I can understand there being different rooms for different religions, but why must I be quiet when I pass room 8?\" St. Peter tells him, \"Well the Catholics are in room 8,  and they think they're the only ones here.\n",
      "\n",
      "Similarity-Score(0.85353854909306) ---> They asked the Japanese visitor if they have elections in his country.   \"Every Morning\" he answers.\n",
      "\n",
      "Similarity-Score(0.8507990286854228) ---> Q: If a person who speaks three languages is called \"tri-lingual,\" and a person who speaks two languages is called \"bi-lingual,\" what do call a person who only speaks one language?  A: American!\n",
      "\n",
      "Similarity-Score(0.8503741587382521) ---> A radio conversation of a US naval  ship with Canadian authorities ...   Americans: Please divert your course 15 degrees to the North to avoid a collision.  Canadians: Recommend you divert YOUR course 15 degrees to the South to  avoid a collision.  Americans: This is the Captain of a US Navy ship.  I say again, divert  YOUR course.  Canadians: No.  I say again, you divert YOUR course.  Americans: This is the aircraft carrier USS LINCOLN, the second largest ship in the United States' Atlantic Fleet. We are accompanied by three destroyers, three cruisers and numerous support vessels. I demand that you change your course 15 degrees north, that's ONE FIVE DEGREES NORTH, or counter-measures will be undertaken to ensure the safety of this ship.  Canadians: This is a lighthouse.  Your call.\n",
      "\n",
      "Similarity-Score(0.8490792272447705) ---> How many men does it take to screw in a light bulb?   One...men will screw anything.\n",
      "\n"
     ]
    }
   ],
   "source": [
    "def recommendJokes(joke):\n",
    "    joke = joke.strip().lower()\n",
    "    index = jokes[jokes['Joke_Text'].str.strip().str.lower() == joke].index\n",
    "\n",
    "    if not index.empty:\n",
    "        index = index[0]                                 # Get the first index if there are multiple\n",
    "        similar_jokes = sorted(\n",
    "            list(enumerate(similarity_scores[index])),   # Access similarity scores for the found index\n",
    "            key=lambda x: x[1],\n",
    "            reverse=True\n",
    "        )[1:6]                                           # Exclude the joke itself, get top 5 most similar jokes\n",
    "\n",
    "        for i in similar_jokes:\n",
    "            joke_text = jokes.loc[i[0], 'Joke_Text']     # Access the Joke_Text at the given index\n",
    "            print(f\"Similarity-Score({i[1]}) ---> {joke_text}\\n\")\n",
    "    else:\n",
    "        print(\"Joke not found.\")\n",
    "\n",
    "\n",
    "recommendJokes(\"Q. Did you hear about the dyslexic devil worshiper?   A. He sold his soul to Santa.\") #pass a joke from the dataset"
   ]
  }
 ],
 "metadata": {
  "colab": {
   "provenance": []
  },
  "kernelspec": {
   "display_name": "Python 3 (ipykernel)",
   "language": "python",
   "name": "python3"
  },
  "language_info": {
   "codemirror_mode": {
    "name": "ipython",
    "version": 3
   },
   "file_extension": ".py",
   "mimetype": "text/x-python",
   "name": "python",
   "nbconvert_exporter": "python",
   "pygments_lexer": "ipython3",
   "version": "3.11.5"
  }
 },
 "nbformat": 4,
 "nbformat_minor": 1
}
